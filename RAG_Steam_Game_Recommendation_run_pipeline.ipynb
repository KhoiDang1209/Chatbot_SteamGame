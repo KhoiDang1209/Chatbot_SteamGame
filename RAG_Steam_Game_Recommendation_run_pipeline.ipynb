{
 "nbformat": 4,
 "nbformat_minor": 0,
 "metadata": {
  "colab": {
   "provenance": [],
   "machine_shape": "hm"
  },
  "kernelspec": {
   "name": "python3",
   "display_name": "Python 3"
  },
  "language_info": {
   "name": "python"
  }
 },
 "cells": [
  {
   "cell_type": "code",
   "execution_count": 1,
   "metadata": {
    "colab": {
     "base_uri": "https://localhost:8080/"
    },
    "id": "mF0bjkDGjhLy",
    "outputId": "b76ff56e-a231-43e1-8aef-1eb10b1e2ae4"
   },
   "outputs": [
    {
     "output_type": "stream",
     "name": "stdout",
     "text": [
      "Collecting pymongo[srv]\n",
      "  Downloading pymongo-4.12.0-cp311-cp311-manylinux_2_17_x86_64.manylinux2014_x86_64.whl.metadata (22 kB)\n",
      "\u001B[33mWARNING: pymongo 4.12.0 does not provide the extra 'srv'\u001B[0m\u001B[33m\n",
      "\u001B[0mCollecting dnspython<3.0.0,>=1.16.0 (from pymongo[srv])\n",
      "  Downloading dnspython-2.7.0-py3-none-any.whl.metadata (5.8 kB)\n",
      "Downloading dnspython-2.7.0-py3-none-any.whl (313 kB)\n",
      "\u001B[2K   \u001B[90m━━━━━━━━━━━━━━━━━━━━━━━━━━━━━━━━━━━━━━━━\u001B[0m \u001B[32m313.6/313.6 kB\u001B[0m \u001B[31m6.1 MB/s\u001B[0m eta \u001B[36m0:00:00\u001B[0m\n",
      "\u001B[?25hDownloading pymongo-4.12.0-cp311-cp311-manylinux_2_17_x86_64.manylinux2014_x86_64.whl (1.4 MB)\n",
      "\u001B[2K   \u001B[90m━━━━━━━━━━━━━━━━━━━━━━━━━━━━━━━━━━━━━━━━\u001B[0m \u001B[32m1.4/1.4 MB\u001B[0m \u001B[31m32.1 MB/s\u001B[0m eta \u001B[36m0:00:00\u001B[0m\n",
      "\u001B[?25hInstalling collected packages: dnspython, pymongo\n",
      "Successfully installed dnspython-2.7.0 pymongo-4.12.0\n"
     ]
    }
   ],
   "source": [
    "!pip install pymongo[srv]"
   ]
  },
  {
   "cell_type": "code",
   "source": [
    "!pip install python-dotenv"
   ],
   "metadata": {
    "colab": {
     "base_uri": "https://localhost:8080/"
    },
    "id": "fPNq7o2V9baV",
    "outputId": "c0a6bfbf-f8ee-485b-88b3-4ac29a458728"
   },
   "execution_count": 2,
   "outputs": [
    {
     "output_type": "stream",
     "name": "stdout",
     "text": [
      "Collecting python-dotenv\n",
      "  Downloading python_dotenv-1.1.0-py3-none-any.whl.metadata (24 kB)\n",
      "Downloading python_dotenv-1.1.0-py3-none-any.whl (20 kB)\n",
      "Installing collected packages: python-dotenv\n",
      "Successfully installed python-dotenv-1.1.0\n"
     ]
    }
   ]
  },
  {
   "cell_type": "code",
   "source": [
    "from pymongo.mongo_client import MongoClient\n",
    "from pymongo.server_api import ServerApi\n",
    "import os\n",
    "from dotenv import load_dotenv\n",
    "load_dotenv('/content/api.env')\n",
    "mongo_access=os.environ.get(\"mongodb_access\")\n",
    "# Create a new client and connect to the server\n",
    "client = MongoClient(mongo_access, server_api=ServerApi('1'))\n",
    "# Send a ping to confirm a successful connection\n",
    "try:\n",
    "    client.admin.command('ping')\n",
    "    print(\"Pinged your deployment. You successfully connected to MongoDB!\")\n",
    "except Exception as e:\n",
    "    print(e)"
   ],
   "metadata": {
    "colab": {
     "base_uri": "https://localhost:8080/"
    },
    "id": "lKWxcTEAkVXm",
    "outputId": "af53d1b6-992c-4ef8-db3e-0b96bbb99393"
   },
   "execution_count": 6,
   "outputs": [
    {
     "output_type": "stream",
     "name": "stdout",
     "text": [
      "Pinged your deployment. You successfully connected to MongoDB!\n"
     ]
    }
   ]
  },
  {
   "cell_type": "code",
   "source": [
    "db=client[\"Steam_Game\"]\n",
    "collection=db[\"Steam_Embedding\"]\n",
    "collection.find()"
   ],
   "metadata": {
    "colab": {
     "base_uri": "https://localhost:8080/"
    },
    "id": "8TfIm3vZkvFk",
    "outputId": "ec6cf92f-ef21-4145-b1d7-f839abfd68b1"
   },
   "execution_count": 7,
   "outputs": [
    {
     "output_type": "execute_result",
     "data": {
      "text/plain": [
       "<pymongo.synchronous.cursor.Cursor at 0x7fd3e6d9fed0>"
      ]
     },
     "metadata": {},
     "execution_count": 7
    }
   ]
  },
  {
   "cell_type": "code",
   "source": [
    "from sentence_transformers import SentenceTransformer, util\n",
    "embedding_model = SentenceTransformer('sentence-transformers/all-MiniLM-L6-v2')\n",
    "def get_embedding(text):\n",
    "    if not isinstance(text, str) or not text.strip():\n",
    "        print(\"Skipping invalid text\")\n",
    "        return []\n",
    "    return embedding_model.encode(text).tolist()\n"
   ],
   "metadata": {
    "id": "najwzixbk0of"
   },
   "execution_count": 8,
   "outputs": []
  },
  {
   "cell_type": "code",
   "source": [
    "import re\n",
    "def extract_metadata_tags(text):\n",
    "    tags = {\n",
    "        \"year\": None,\n",
    "        \"price\": None,\n",
    "        \"review\": None\n",
    "    }\n",
    "\n",
    "    year_match = re.search(r\"\\b(19|20)\\d{2}\\b\", text)\n",
    "    if year_match:\n",
    "        tags[\"year\"] = int(year_match.group())\n",
    "\n",
    "    price_match = re.search(r\"\\$?(\\d+)(\\.\\d{1,2})?\", text)\n",
    "    if price_match:\n",
    "        tags[\"price\"] = float(price_match.group(1))\n",
    "\n",
    "    for sentiment in [\"Positive\", \"Mixed\", \"Negative\"]:\n",
    "        if sentiment.lower() in text.lower():\n",
    "            tags[\"review\"] = sentiment\n",
    "            break\n",
    "\n",
    "    return tags\n"
   ],
   "metadata": {
    "id": "JM-Vj08Nexff"
   },
   "execution_count": 16,
   "outputs": []
  },
  {
   "cell_type": "code",
   "source": [
    "def smart_vector_search(user_query, collection, limit=100):\n",
    "\n",
    "    tags = extract_metadata_tags(user_query)\n",
    "\n",
    "    # Step 1: Embed query\n",
    "    query_embedding = get_embedding(user_query)\n",
    "    if not query_embedding:\n",
    "        return []\n",
    "\n",
    "    # Step 2: Run vector search in MongoDB\n",
    "    pipeline = [\n",
    "        {\n",
    "            \"$vectorSearch\": {\n",
    "                \"index\": \"default\",\n",
    "                \"queryVector\": query_embedding,\n",
    "                \"path\": \"embedding\",\n",
    "                \"numCandidates\": 400,\n",
    "                \"limit\": limit,\n",
    "            }\n",
    "        },\n",
    "        {\"$unset\": \"embedding\"},\n",
    "        {\n",
    "            \"$project\": {\n",
    "                \"_id\": 0,\n",
    "                \"name\": 1,\n",
    "                \"description\": 1,\n",
    "                \"all_reviews\": 1,\n",
    "                \"release_date\": 1,\n",
    "                \"developer\": 1,\n",
    "                \"publisher\": 1,\n",
    "                \"price\": 1,\n",
    "                \"score\": {\"$meta\": \"vectorSearchScore\"},\n",
    "            }\n",
    "        }\n",
    "    ]\n",
    "\n",
    "    results = list(collection.aggregate(pipeline))\n",
    "\n",
    "    # Step 3: Post-filter by metadata\n",
    "    filtered_results = []\n",
    "    for game in results:\n",
    "        # Check year\n",
    "        if tags[\"year\"] is not None:\n",
    "          if not game.get(\"release_date\") or game[\"release_date\"].year != tags[\"year\"]:\n",
    "            continue\n",
    "\n",
    "\n",
    "        if tags[\"price\"] is not None:\n",
    "          if not game.get(\"price\"):\n",
    "            continue\n",
    "          try:\n",
    "            game_price = float(str(game[\"price\"]).replace(\"$\", \"\").strip())\n",
    "            if game_price > tags[\"price\"]:\n",
    "              continue\n",
    "          except ValueError:\n",
    "            continue  # Skip games with malformed price\n",
    "\n",
    "\n",
    "        # Check review\n",
    "        if tags[\"review\"]:\n",
    "            if not game.get(\"all_reviews\") or tags[\"review\"].lower() not in game[\"all_reviews\"].lower():\n",
    "                continue\n",
    "\n",
    "        # If all filters pass\n",
    "        filtered_results.append(game)\n",
    "\n",
    "    return filtered_results[:3] if filtered_results else results[:3]"
   ],
   "metadata": {
    "id": "0F68uTtku-xd"
   },
   "execution_count": 18,
   "outputs": []
  },
  {
   "cell_type": "code",
   "source": [
    "user_query = \"I'm looking for a tactical football game with very positive reviews, released in 2020, developed by an indie studio, and priced under $10\"\n",
    "games = smart_vector_search(user_query, collection)\n",
    "\n",
    "for game in games:\n",
    "    print(game)"
   ],
   "metadata": {
    "colab": {
     "base_uri": "https://localhost:8080/"
    },
    "id": "Fdcse2-GuEKf",
    "outputId": "07505409-bc9d-4b76-9e10-fdb3e37430a1"
   },
   "execution_count": 20,
   "outputs": [
    {
     "output_type": "stream",
     "name": "stdout",
     "text": [
      "{'name': 'Easy Ball Game', 'all_reviews': 'Positive', 'release_date': datetime.datetime(2020, 9, 20, 0, 0), 'developer': 'Eros Rossi', 'publisher': 'Eros Rossi', 'price': '$6.99 ', 'description': 'defy gravity game ball', 'score': 0.7655874490737915}\n",
      "{'name': 'Time Over', 'all_reviews': 'Very Positive', 'release_date': datetime.datetime(2020, 10, 26, 0, 0), 'developer': 'Roitman', 'publisher': 'Cow Games', 'price': '$2.99 ', 'description': 'unlock secret unparalleled success power teamwork', 'score': 0.7648532390594482}\n",
      "{'name': 'DEFENDit', 'all_reviews': 'Mostly Positive', 'release_date': datetime.datetime(2020, 4, 29, 0, 0), 'developer': 'edybtt Studios', 'publisher': 'edybtt Studios', 'price': '$0', 'description': 'defend sure defend base last enemy try luck free play', 'score': 0.7647790908813477}\n",
      "{'name': \"Backyard Soccer '98\", 'all_reviews': 'Very Positive', 'release_date': datetime.datetime(2020, 10, 6, 0, 0), 'developer': 'Mega Cat Studios', 'publisher': 'Playground Productions', 'price': '$9.99 ', 'description': 'return soccer field favorite backyard athletes original backyard soccer 1998 back enhanced run steam build roster among iconic backyard kids kick pass score classic game made soccer fun everyone', 'score': 0.7625964879989624}\n",
      "{'name': 'ROGUE FLIGHT', 'all_reviews': 'Very Positive', 'release_date': datetime.datetime(2020, 1, 29, 0, 0), 'developer': 'Truant Pixel, LLC', 'publisher': 'Perp Games', 'price': '$19.99 ', 'description': 'breathtaking arcade space combat game inspired prestige anime', 'score': 0.7588660717010498}\n"
     ]
    }
   ]
  },
  {
   "cell_type": "code",
   "source": [
    "user_query=\"Counter Strike\"\n",
    "games = smart_vector_search(user_query, collection)\n",
    "\n",
    "for game in games:\n",
    "    print(game)"
   ],
   "metadata": {
    "colab": {
     "base_uri": "https://localhost:8080/"
    },
    "id": "mYOaEiCnwNUl",
    "outputId": "d9501701-a1e9-4391-fb6b-5c90a0856b51"
   },
   "execution_count": 22,
   "outputs": [
    {
     "output_type": "stream",
     "name": "stdout",
     "text": [
      "{'name': 'Counter-Strike 2', 'all_reviews': 'Very Positive', 'release_date': datetime.datetime(2021, 3, 17, 0, 0), 'developer': 'Valve', 'publisher': 'Valve', 'price': '$0', 'description': 'two decades counterstrike offered elite competitive experience one shaped millions players across globe next chapter cs story begin counterstrike 2', 'score': 0.8244240283966064}\n",
      "{'name': 'Strike.is: The Game', 'all_reviews': 'Mostly Positive', 'release_date': datetime.datetime(2022, 5, 25, 0, 0), 'developer': 'Freakinware Limited', 'publisher': 'Freakinware Limited', 'price': '$0', 'description': 'load gun dominate best multiplayer mobile shooter game', 'score': 0.7655930519104004}\n",
      "{'name': 'Counter Spell', 'all_reviews': 'Very Positive', 'release_date': datetime.datetime(2021, 11, 11, 0, 0), 'developer': 'Abnormal Software', 'publisher': 'Abnormal Software', 'price': '$0.14', 'description': 'counter spell combines elements classic role playing games modern stealthbased shooters single player multiplayer coop competitive multiplayer supported different game modes open streaming world makes exciting sandbox adventure', 'score': 0.7638282775878906}\n",
      "{'name': 'METAL SUITS: Counter-attack', 'all_reviews': 'Positive', 'release_date': datetime.datetime(2017, 3, 17, 0, 0), 'developer': 'Eggtart Inc', 'publisher': 'Eggtart Inc', 'price': '$19.99 ', 'description': 'never ticked begin hotblooded revenge protagonist kevin lost everything reborn cyborg', 'score': 0.7625739574432373}\n",
      "{'name': 'Counter Terrorist Agency', 'all_reviews': 'Mixed', 'release_date': datetime.datetime(2023, 4, 7, 0, 0), 'developer': 'Play2Chill', 'publisher': 'Games Operators', 'price': '$3.52', 'description': 'counter terrorist agency lets fight international terrorism prevent attacks world use modern invigilation techniques discover connections interrogate suspects eliminate threats dismantle terrorist networks', 'score': 0.7593673467636108}\n"
     ]
    }
   ]
  },
  {
   "cell_type": "code",
   "source": [
    "from google.genai import types\n",
    "\n",
    "def generate_response(user_query, retrieved_games, client):\n",
    "    \"\"\"\n",
    "    Generate a recommendation response using Gemini Flash API.\n",
    "\n",
    "    Args:\n",
    "        user_query (str): The original user query.\n",
    "        retrieved_games (list): List of game metadata dicts.\n",
    "        client: The initialized Google Generative AI client.\n",
    "\n",
    "    Returns:\n",
    "        str: The generated recommendation text.\n",
    "    \"\"\"\n",
    "    context = \"\\n\".join([\n",
    "        f\"{g['name']}: {g['description']}: {g['all_reviews']}: {g['release_date']}:{g['developer']} :{g['publisher']}: {g['price']}\"\n",
    "        for g in retrieved_games\n",
    "    ])\n",
    "\n",
    "    prompt = f\"\"\"\n",
    "You are a game recommendation agent. Your task is to provide engaging and convincing recommendations to users based on their queries and the following retrieved game information.\n",
    "\n",
    "User Query: {user_query}\n",
    "\n",
    "Relevant Games:\n",
    "{context}\n",
    "\n",
    "Provide a detailed recommendation that:\n",
    "- Highlights the most appealing aspects of the games.\n",
    "- Connects the games to the user's query.\n",
    "- Uses persuasive language and your own knowledge to captivate the user.\n",
    "- Includes relevant information such as gameplay, reviews, release date, publisher and price.\n",
    "- Make the user want to play the game.\n",
    "\"\"\"\n",
    "\n",
    "    # Use client.models.generate_content() instead of client.generate_content()\n",
    "    response = client.models.generate_content(\n",
    "        model=\"gemini-2.0-flash\",\n",
    "        contents=prompt\n",
    "    )\n",
    "\n",
    "    return response.text"
   ],
   "metadata": {
    "id": "l7txZLR2HTTg"
   },
   "execution_count": 23,
   "outputs": []
  },
  {
   "cell_type": "code",
   "source": [
    "!pip install -q -U google-genai"
   ],
   "metadata": {
    "colab": {
     "base_uri": "https://localhost:8080/"
    },
    "id": "ZMVY1NPVL4JD",
    "outputId": "b9bd3f6f-efef-425e-b16e-7385ae8a6ad2"
   },
   "execution_count": 24,
   "outputs": [
    {
     "output_type": "stream",
     "name": "stdout",
     "text": [
      "\u001B[?25l   \u001B[90m━━━━━━━━━━━━━━━━━━━━━━━━━━━━━━━━━━━━━━━━\u001B[0m \u001B[32m0.0/154.7 kB\u001B[0m \u001B[31m?\u001B[0m eta \u001B[36m-:--:--\u001B[0m\r\u001B[2K   \u001B[90m━━━━━━━━━━━━━━━━━━━━━━━━━━━━━━━━━━━━━━━━\u001B[0m \u001B[32m154.7/154.7 kB\u001B[0m \u001B[31m4.4 MB/s\u001B[0m eta \u001B[36m0:00:00\u001B[0m\n",
      "\u001B[?25h"
     ]
    }
   ]
  },
  {
   "cell_type": "code",
   "source": [
    "from google import genai\n",
    "\n",
    "gemini_api_key = os.environ.get(\"gemini_api_key\")\n",
    "client = genai.Client(api_key=gemini_api_key)"
   ],
   "metadata": {
    "id": "Dxe3eO_FNPZn"
   },
   "execution_count": 25,
   "outputs": []
  },
  {
   "cell_type": "code",
   "source": [
    "from google.genai import types\n",
    "function_declarations = [\n",
    "    {\n",
    "        \"name\": \"vector_search\",\n",
    "        \"description\": \"Search games by user query\",\n",
    "        \"parameters\": {\n",
    "            \"type\": \"object\",\n",
    "            \"properties\": {\n",
    "                \"query\": {\n",
    "                    \"type\": \"string\",\n",
    "                    \"description\": \"User input that includes a description of games they want\"\n",
    "                }\n",
    "            },\n",
    "            \"required\": [\"query\"]\n",
    "        }\n",
    "    },\n",
    "    {\n",
    "        \"name\": \"chit_chat\",\n",
    "        \"description\": \"Chit chat message of users\",\n",
    "        \"parameters\": {\n",
    "            \"type\": \"object\",\n",
    "            \"properties\": {\n",
    "                \"query\": {\n",
    "                    \"type\": \"string\",\n",
    "                    \"description\": \"User input message that is common chit-chat\"\n",
    "                }\n",
    "            },\n",
    "            \"required\": [\"query\"]\n",
    "        }\n",
    "    },\n",
    "    {\n",
    "        \"name\": \"end_chat\",\n",
    "        \"description\": \"End chat session\",\n",
    "        \"parameters\": {\n",
    "            \"type\": \"object\",\n",
    "            \"properties\": {\n",
    "                \"query\": {\n",
    "                    \"type\": \"string\",\n",
    "                    \"description\": \"End the chat session and further information if needed\"\n",
    "                }\n",
    "            },\n",
    "            \"required\": [\"query\"]\n",
    "        }\n",
    "    }\n",
    "\n",
    "]\n",
    "\n",
    "tools = types.Tool(function_declarations=function_declarations)\n",
    "config = types.GenerateContentConfig(tools=[tools])\n",
    "\n",
    "# Send query to Gemini Flash\n",
    "\n",
    "response = client.models.generate_content(\n",
    "    model=\"gemini-2.0-flash\",\n",
    "    contents=user_query,\n",
    "    config=config,\n",
    ")\n",
    "\n",
    "# Process Gemini Flash function call and generate final response\n",
    "def process_response(response, user_query, collection, client):\n",
    "    candidate = response.candidates[0]\n",
    "\n",
    "    if candidate.content.parts and candidate.content.parts[0].function_call:\n",
    "        function_call = candidate.content.parts[0].function_call\n",
    "        print(f\"🔧 Function to call: {function_call.name}\")\n",
    "        print(f\"📥 Arguments: {function_call.args}\")\n",
    "\n",
    "        if function_call.name == \"vector_search\":\n",
    "            results = smart_vector_search(function_call.args[\"query\"], collection)\n",
    "        elif function_call.name == \"chit-chat\":\n",
    "            chit_chat_response=client.models.generate_content(\n",
    "                model=\"gemini-2.0-flash\",\n",
    "                contents=function_call.args[\"query\"],\n",
    "            )\n",
    "            results=chit_chat_response.text\n",
    "        else:\n",
    "            end_response=client.models.generate_content(\n",
    "                model=\"gemini-2.0-flash\",\n",
    "                contents=function_call.args[\"query\"],\n",
    "            )\n",
    "            results=end_response.text\n",
    "\n",
    "        # Use local model to generate the response\n",
    "        return generate_response(user_query, results, client)\n",
    "\n",
    "# Final response\n",
    "user_query = \"Recommend shooting games in 2023 with positive reviews\"\n",
    "final_response = process_response(response, user_query, collection,client)\n",
    "print(final_response)"
   ],
   "metadata": {
    "colab": {
     "base_uri": "https://localhost:8080/"
    },
    "id": "clv1xHOcTCVy",
    "outputId": "5aa4de06-3c03-46d5-f46d-5ae87a98854c"
   },
   "execution_count": null,
   "outputs": [
    {
     "output_type": "stream",
     "name": "stdout",
     "text": [
      "🔧 Function to call: vector_search_description\n",
      "📥 Arguments: {'query': 'shooting games in 2023 with positive reviews'}\n",
      "Looking for a thrilling shooting game from 2023 with glowing reviews? Look no further! I've got a fantastic lineup tailored just for you.\n",
      "\n",
      "First up, prepare for an all-out alien invasion in **EARTH DEFENSE FORCE 5**. This isn't just any shooter; it's an arcade-style, humanity-saving extravaganza! Released in June 2023 by D3PUBLISHER, you'll step into the boots of an EDF soldier and battle endless hordes of immense, otherworldly enemies to restore peace to Earth. Players on Steam have given it Very Positive reviews, praising its non-stop action and addictive gameplay. And the best part? You can grab it now for just $3.32!\n",
      "\n",
      "Alternatively, if you like cute shooter games, you should check out **Lovely Planet 2: April Skies**. As the sequel to the critically acclaimed 2014 game, this title will put you on a gun ballet adventure. This game was released in July 2023 by tinyBuild and also has Very Positive reviews on Steam. You can check this out for only $1.68!\n",
      "\n",
      "For a dose of old-school FPS action, dive into **Hell Shooter**. This game released in January 2023 by 天河(TH Game) is a love letter to classic shooters, guaranteed to get your adrenaline pumping. With Very Positive reviews and a price tag of only $0.20, it's an absolute steal!\n",
      "\n",
      "Finally, while it only has Positive reviews, **Doughlings: Invasion** is another option. Released in May 2023 by Hero Concept, this game pays tribute to arcade classics, adding unique innovations to the shooting genre for gamers of all ages. Yours for just $1.68!\n",
      "\n",
      "So, what are you waiting for? Dive into these positively-reviewed shooters from 2023 and experience the adrenaline-pumping action for yourself!\n",
      "\n"
     ]
    }
   ]
  }
 ]
}
